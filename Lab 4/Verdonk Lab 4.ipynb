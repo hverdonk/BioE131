{
 "cells": [
  {
   "cell_type": "markdown",
   "metadata": {},
   "source": [
    "### Here's how my database is set up:\n",
    "I've got a table of genes, a table of enzymes, and a table of pathways. Depending on how much time I get later, I might also make some associative tables linking them.\n",
    "\n",
    "### Gene Table\n",
    "CREATE TABLE genes (id INT PRIMARY KEY ASC, name TEXT, description TEXT, organism TEXT,\n",
    "chromosome TEXT, start INT, end INT, strand VARCHAR(1), sequence TEXT, translated TEXT)\n",
    "\n",
    "**Start with name, description, organism, and nucleotide sequence. Additional fields might include chromosome, start and end position, strand, and translated sequence. For eukaryotes, the nucleotide sequence should be the spliced mRNA and the coordinates should span the entire locus.**\n",
    "\n",
    "### Enzyme Table\n",
    "CREATE TABLE enzymes (id INT PRIMARY KEY ASC, name TEXT, function TEXT, \n",
    "EC INT, pathway TEXT)\n",
    "**EC = Enzyme Commission number\n",
    "**name, function, and enzyme commission (EC) number. Multiple genes encode enzymes that perform the same function, so there ought to be fewer enzymes than genes.**\n",
    "\n",
    "### Pathway Table\n",
    "CREATE TABLE pathways (id INT PRIMARY KEY ASC, name TEXT, description TEXT)"
   ]
  },
  {
   "cell_type": "code",
   "execution_count": 25,
   "metadata": {},
   "outputs": [],
   "source": [
    "#This segment connects to the metabolism database and readies it to receive input\n",
    "import sqlite3\n",
    "from Bio import Entrez\n",
    "from Bio import SeqIO\n",
    "Entrez.email = 'hverdonk@berkeley.edu'\n",
    "conn = sqlite3.connect('metabolism.db')\n",
    "c = conn.cursor()"
   ]
  },
  {
   "cell_type": "code",
   "execution_count": 144,
   "metadata": {},
   "outputs": [],
   "source": [
    "#Creates empty Enzyme Table\n",
    "c.execute(\"\"\"DROP TABLE enzymes\"\"\")\n",
    "c.execute(\"\"\"CREATE TABLE enzymes (name TEXT, \n",
    "                                    description TEXT, \n",
    "                                    EC TEXT, \n",
    "                                    pathway TEXT)\"\"\")\n",
    "conn.commit()"
   ]
  },
  {
   "cell_type": "code",
   "execution_count": 48,
   "metadata": {},
   "outputs": [],
   "source": [
    "#Creates emtpy Gene Table\n",
    "c.execute(\"\"\"DROP TABLE genes\"\"\")\n",
    "c.execute(\"\"\"CREATE TABLE genes (name TEXT, \n",
    "                                description TEXT, \n",
    "                                organism TEXT,  \n",
    "                                nt_sequence TEXT)\"\"\")\n",
    "conn.commit()"
   ]
  },
  {
   "cell_type": "code",
   "execution_count": 33,
   "metadata": {},
   "outputs": [],
   "source": [
    "#Creates empty Pathway Table\n",
    "c.execute(\"\"\"CREATE TABLE pathways (name TEXT, \n",
    "                                    description TEXT)\"\"\")\n",
    "conn.commit()"
   ]
  },
  {
   "cell_type": "code",
   "execution_count": 34,
   "metadata": {},
   "outputs": [],
   "source": [
    "#Fill the Pathway Table\n",
    "c.execute(\"\"\"INSERT INTO pathways\n",
    "                  VALUES ('glycolysis', \n",
    "                            'converts glucose into pyruvate to generate ATP and NADH'),\n",
    "                            ('citric acid cycle', \n",
    "                            'the complete oxidation of glucose derivatives to carbon dioxide to produce ATP'), \n",
    "                            ('pentose phosphate pathway', \n",
    "                            'converts glucose into pentose to generate NADPH and ribose 5-phosphate');\"\"\")\n",
    "conn.commit()"
   ]
  },
  {
   "cell_type": "markdown",
   "metadata": {},
   "source": [
    "FILL IN EXPLANATION LATER"
   ]
  },
  {
   "cell_type": "code",
   "execution_count": 145,
   "metadata": {},
   "outputs": [],
   "source": [
    "#Fills enzymes table\n",
    "\n",
    "citric_acid_terms = ['homo sapiens[ORGN] EC 2.3.1.12', 'drosophila[ORGN] EC 2.3.1.12', 'Escherichia coli[ORGN] EC 2.3.1.12',\n",
    "                     'homo sapiens[ORGN] EC 1.2.4.1', 'drosophila[ORGN] EC 1.2.4.1', 'Escherichia coli[ORGN] EC 1.2.4.1',\n",
    "                     'homo sapiens[ORGN] EC 1.8.1.4', 'drosophila[ORGN] EC 1.8.1.4', 'Escherichia coli[ORGN] EC 1.8.1.4',\n",
    "                     'homo sapiens[ORGN] EC 4.1.1.32', 'drosophila[ORGN] EC 4.1.1.32', 'Escherichia coli[ORGN] EC 4.1.1.49',]\n",
    "glycolysis_terms = ['homo sapiens[ORGN] EC 5.4.2.2', 'drosophila[ORGN] EC 5.4.2.2', 'Escherichia coli[ORGN] EC 5.4.2.2',\n",
    "                    'homo sapiens[ORGN] EC 5.3.1.9', 'drosophila[ORGN] EC 5.3.1.9', 'Escherichia coli[ORGN] EC 5.3.1.9',\n",
    "                    'homo sapiens[ORGN] EC 4.2.1.11', 'drosophila[ORGN] EC 4.2.1.11', 'Escherichia coli[ORGN] EC 4.2.1.11',\n",
    "                    'homo sapiens[ORGN] EC 2.7.2.3', 'drosophila[ORGN] EC 2.7.2.3', 'Escherichia coli[ORGN] EC 2.7.2.3']\n",
    "pentose_phosphate_terms = ['homo sapiens[ORGN] EC 4.3.1.9', 'drosophila[ORGN] EC 4.3.1.9', 'Escherichia coli[ORGN] EC 4.3.1.9',\n",
    "                           'homo sapiens[ORGN] EC 2.7.1.11', 'drosophila[ORGN] EC 2.7.1.11', 'Escherichia coli[ORGN] EC 2.7.1.11', \n",
    "                           'homo sapiens[ORGN] EC 4.1.2.13', 'drosophila[ORGN] EC 4.1.2.13', 'Escherichia coli[ORGN] EC 4.1.2.13', \n",
    "                           'homo sapiens[ORGN] EC 3.1.3.11', 'drosophila[ORGN] EC 3.1.3.11', 'Escherichia coli[ORGN] EC 3.1.3.11']\n",
    "genes=[]\n",
    "\n",
    "\"\"\"\n",
    "Fills enzyme table with first search results to an Entrez protein database query. Adds one gene \n",
    "corresponding to each enzyme to a list of genes.\n",
    "\"\"\"\n",
    "def fill_enzyme_table(cycle_name, cycle_list):\n",
    "    for t in cycle_list:\n",
    "        handle = Entrez.esearch(db='protein',\n",
    "                        term=t,\n",
    "                        sort='relevance',\n",
    "                        idtype='acc')\n",
    "        results = Entrez.read(handle)['IdList']\n",
    "        if results:\n",
    "            first_result = results[0]\n",
    "            handle=Entrez.efetch(db='protein', id=first_result, rettype='gb', retmode='text')\n",
    "            temp = SeqIO.read(handle, 'gb')\n",
    "            gene_acc_num = temp.annotations['db_source']\n",
    "            genes.append(gene_acc_num)\n",
    "            c.execute(\"INSERT INTO enzymes VALUES (?, ?, ?, ?)\", (temp.name, temp.description, t, cycle_name))\n",
    "\n",
    "fill_enzyme_table(\"citric acid cycle\", citric_acid_terms)\n",
    "fill_enzyme_table(\"glycolysis\", glycolysis_terms)\n",
    "fill_enzyme_table(\"pentose phosphate pathway\", pentose_phosphate_terms)\n"
   ]
  },
  {
   "cell_type": "markdown",
   "metadata": {},
   "source": [
    "In order to get the gene accession numbers out of the enzyme entries, I had to just grab all the text surrounding the number itself. This next section just strips away the unneccessary text and puts the numbers in a new list."
   ]
  },
  {
   "cell_type": "code",
   "execution_count": 166,
   "metadata": {},
   "outputs": [
    {
     "name": "stdout",
     "output_type": "stream",
     "text": [
      "['AK299562.1', 'QDKR01000002.1', 'M24848.1', 'LOJL01000004.1', 'AK300077.1', 'LOJL01000003.1', 'AK316206.1', 'LOJL01000036.1', 'AK300100.1', 'QDKR01000003.1', 'AAB36062.1', 'LOJL01000043.1', 'M14328.1', 'AAB26877.1', 'LOJL01000011.1', 'AK301740.1', 'LOJL01000025.1', 'AK303681.1', 'LOJM01000004.1', 'M21190.1', 'LOJM01000004.1', 'M19922.1', 'LOJL01000003.1']\n"
     ]
    }
   ],
   "source": [
    "gene_acc_nums = []\n",
    "\n",
    "for g in genes:\n",
    "    l = g.split()\n",
    "    gene_acc_nums.append(l[-1])\n",
    "    \n",
    "print(gene_acc_nums)"
   ]
  },
  {
   "cell_type": "code",
   "execution_count": 156,
   "metadata": {},
   "outputs": [],
   "source": [
    "\"\"\"\n",
    "Takes in a list of search queries to the Entrez database and populates the genes table \n",
    "with the results of those queries.\n",
    "\"\"\"\n",
    "def fill_gene_table(genes_list):\n",
    "    for t in genes_list:\n",
    "        handle = Entrez.esearch(db='nucleotide',\n",
    "                        term=t,\n",
    "                        sort='relevance',\n",
    "                        idtype='acc')\n",
    "        results = Entrez.read(handle)['IdList']\n",
    "        if results:\n",
    "            first_result = results[0]\n",
    "            handle=Entrez.efetch(db='nucleotide', id=first_result, rettype='gb', retmode='text')\n",
    "            temp = SeqIO.read(handle, 'gb')\n",
    "            c.execute(\"INSERT INTO genes VALUES (?, ?, ?, ?)\", \n",
    "                      (temp.name, temp.description, temp.annotations['organism'], str(temp.seq)))\n",
    "        else:\n",
    "            continue\n",
    "\n",
    "\n",
    "fill_gene_table(gene_acc_nums)"
   ]
  },
  {
   "cell_type": "code",
   "execution_count": 160,
   "metadata": {},
   "outputs": [
    {
     "name": "stdout",
     "output_type": "stream",
     "text": [
      "[('glycolysis', 'converts glucose into pyruvate to generate ATP and NADH'), ('citric acid cycle', 'the complete oxidation of glucose derivatives to carbon dioxide to produce ATP'), ('pentose phosphate pathway', 'converts glucose into pentose to generate NADPH and ribose 5-phosphate')]\n"
     ]
    }
   ],
   "source": [
    "#how to print a whole table\n",
    "c.execute(\"\"\"SELECT * FROM pathways\"\"\")\n",
    "print(c.fetchall())"
   ]
  },
  {
   "cell_type": "code",
   "execution_count": null,
   "metadata": {},
   "outputs": [],
   "source": []
  }
 ],
 "metadata": {
  "kernelspec": {
   "display_name": "Python 3",
   "language": "python",
   "name": "python3"
  },
  "language_info": {
   "codemirror_mode": {
    "name": "ipython",
    "version": 3
   },
   "file_extension": ".py",
   "mimetype": "text/x-python",
   "name": "python",
   "nbconvert_exporter": "python",
   "pygments_lexer": "ipython3",
   "version": "3.6.5"
  }
 },
 "nbformat": 4,
 "nbformat_minor": 2
}

{
 "cells": [
  {
   "cell_type": "markdown",
   "metadata": {},
   "source": [
    "### Here's how my database is set up:\n",
    "I've got a table of genes, a table of enzymes, and a table of pathways. Depending on how much time I get later, I might also make some associative tables linking them.\n",
    "\n",
    "### Gene Table\n",
    "CREATE TABLE genes (id INT PRIMARY KEY ASC, name TEXT, description TEXT, organism TEXT,\n",
    "chromosome TEXT, start INT, end INT, strand VARCHAR(1), sequence TEXT, translated TEXT)\n",
    "\n",
    "**Start with name, description, organism, and nucleotide sequence. Additional fields might include chromosome, start and end position, strand, and translated sequence. For eukaryotes, the nucleotide sequence should be the spliced mRNA and the coordinates should span the entire locus.**\n",
    "\n",
    "### Enzyme Table\n",
    "CREATE TABLE enzymes (id INT PRIMARY KEY ASC, name TEXT, function TEXT, \n",
    "EC INT, pathway TEXT)\n",
    "**EC = Enzyme Commission number\n",
    "**name, function, and enzyme commission (EC) number. Multiple genes encode enzymes that perform the same function, so there ought to be fewer enzymes than genes.**\n",
    "\n",
    "### Pathway Table\n",
    "CREATE TABLE pathways (id INT PRIMARY KEY ASC, name TEXT, description TEXT)"
   ]
  },
  {
   "cell_type": "code",
   "execution_count": 10,
   "metadata": {},
   "outputs": [],
   "source": [
    "#This segment sets up an empty database and readies it to receive input\n",
    "import sqlite3\n",
    "from Bio import Entrez\n",
    "Entrez.email = 'hverdonk@berkeley.edu'\n",
    "conn = sqlite3.connect('metabolism.db')\n",
    "c = conn.cursor()"
   ]
  },
  {
   "cell_type": "code",
   "execution_count": 11,
   "metadata": {},
   "outputs": [],
   "source": [
    "#Creates emtpy Gene Table\n",
    "c.execute(\"\"\"CREATE TABLE genes (id INT PRIMARY KEY ASC, \n",
    "                                name TEXT, \n",
    "                                description TEXT, \n",
    "                                organism TEXT, \n",
    "                                chromosome TEXT, \n",
    "                                start INT, \n",
    "                                end INT, \n",
    "                                strand VARCHAR(1), \n",
    "                                sequence TEXT, \n",
    "                                translated TEXT)\"\"\")\n",
    "conn.commit()"
   ]
  },
  {
   "cell_type": "code",
   "execution_count": 12,
   "metadata": {},
   "outputs": [],
   "source": [
    "#Creates empty Enzyme Table\n",
    "c.execute(\"\"\"CREATE TABLE enzymes (id INT PRIMARY KEY ASC, \n",
    "                                    name TEXT, \n",
    "                                    function TEXT, \n",
    "                                    EC INT, \n",
    "                                    pathway TEXT)\"\"\")\n",
    "conn.commit()"
   ]
  },
  {
   "cell_type": "code",
   "execution_count": 13,
   "metadata": {},
   "outputs": [],
   "source": [
    "#Creates empty Pathway Table\n",
    "c.execute(\"\"\"CREATE TABLE pathways (name TEXT, \n",
    "                                    description TEXT)\"\"\")\n",
    "conn.commit()"
   ]
  },
  {
   "cell_type": "code",
   "execution_count": 22,
   "metadata": {},
   "outputs": [],
   "source": [
    "#Fill the Pathway Table\n",
    "c.executescript(\"\"\"INSERT INTO pathways\n",
    "                        VALUES ('glycolysis', \n",
    "                                'converts glucose into pyruvate to generate ATP and NADH');\n",
    "                    INSERT INTO pathways\n",
    "                        VALUES ('citric acid cycle', \n",
    "                                'the complete oxidation of glucose derivatives to carbon dioxide to produce ATP');\n",
    "                    INSERT INTO pathways\n",
    "                        VALUES ('pentose phosphate pathway', \n",
    "                                'converts glucose into pentose to generate NADPH and ribose 5-phosphate');\"\"\")\n",
    "conn.commit()"
   ]
  },
  {
   "cell_type": "code",
   "execution_count": 23,
   "metadata": {},
   "outputs": [
    {
     "name": "stdout",
     "output_type": "stream",
     "text": [
      "('glycolysis', 'converts glucose into pyruvate to generate ATP and NADH')\n"
     ]
    }
   ],
   "source": [
    "c.execute(\"\"\"SELECT * FROM pathways\"\"\")\n",
    "print(c.fetchone())"
   ]
  },
  {
   "cell_type": "code",
   "execution_count": null,
   "metadata": {},
   "outputs": [],
   "source": []
  }
 ],
 "metadata": {
  "kernelspec": {
   "display_name": "Python 3",
   "language": "python",
   "name": "python3"
  },
  "language_info": {
   "codemirror_mode": {
    "name": "ipython",
    "version": 3
   },
   "file_extension": ".py",
   "mimetype": "text/x-python",
   "name": "python",
   "nbconvert_exporter": "python",
   "pygments_lexer": "ipython3",
   "version": "3.6.5"
  }
 },
 "nbformat": 4,
 "nbformat_minor": 2
}

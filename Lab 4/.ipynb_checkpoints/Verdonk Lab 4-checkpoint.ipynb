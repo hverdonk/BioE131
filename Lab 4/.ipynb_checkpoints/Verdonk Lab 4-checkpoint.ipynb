{
 "cells": [
  {
   "cell_type": "markdown",
   "metadata": {},
   "source": [
    "### Here's how my database is set up:\n",
    "I've got a table of genes, a table of enzymes, and a table of metabolic pathways. I also set up two associative tables: one of which enzymes correspond to which pathways, and one of which genes code for which enzymes."
   ]
  },
  {
   "cell_type": "code",
   "execution_count": 1,
   "metadata": {},
   "outputs": [],
   "source": [
    "#This segment connects to the metabolism database and readies it to receive input\n",
    "import sqlite3\n",
    "from Bio import Entrez\n",
    "from Bio import SeqIO\n",
    "Entrez.email = 'hverdonk@berkeley.edu'\n",
    "conn = sqlite3.connect('metabolism.db')\n",
    "c = conn.cursor()"
   ]
  },
  {
   "cell_type": "markdown",
   "metadata": {},
   "source": [
    "### Gene Table\n",
    "A table of genes from *Drosophila*, *E. coli*, and *homo sapiens*. Each gene codes for an enzyme or an enzyme subunit that is part of glycolysis, the citric acid cycle, and/or the pentose phosphate pathway.\n",
    "\n",
    "**Columns:** name TEXT, description TEXT, organism TEXT, nt_sequence TEXT"
   ]
  },
  {
   "cell_type": "code",
   "execution_count": 47,
   "metadata": {},
   "outputs": [],
   "source": [
    "#Creates empty Gene Table\n",
    "c.execute(\"\"\"DROP TABLE genes\"\"\")\n",
    "c.execute(\"\"\"CREATE TABLE genes (name TEXT, \n",
    "                                description TEXT, \n",
    "                                organism TEXT,  \n",
    "                                nt_sequence TEXT)\"\"\")\n",
    "conn.commit()"
   ]
  },
  {
   "cell_type": "markdown",
   "metadata": {},
   "source": [
    "### Enzyme Table\n",
    "A table of a few selected enzymes from each metabolic pathway.\n",
    "\n",
    "**Columns:** name TEXT, description TEXT, EC TEXT, pathway TEXT"
   ]
  },
  {
   "cell_type": "code",
   "execution_count": 32,
   "metadata": {},
   "outputs": [],
   "source": [
    "#Creates empty Enzyme Table\n",
    "c.execute(\"\"\"DROP TABLE enzymes\"\"\")\n",
    "c.execute(\"\"\"CREATE TABLE enzymes (name TEXT, \n",
    "                                    description TEXT, \n",
    "                                    EC TEXT, \n",
    "                                    pathway TEXT)\"\"\")\n",
    "conn.commit()"
   ]
  },
  {
   "cell_type": "markdown",
   "metadata": {},
   "source": [
    "### Pathway Table\n",
    "A table of metabolic pathway names and a description of each pathway's function.\n",
    "\n",
    "**Columns:** name TEXT, description TEXT"
   ]
  },
  {
   "cell_type": "code",
   "execution_count": null,
   "metadata": {},
   "outputs": [],
   "source": [
    "#Creates empty Pathway Table\n",
    "c.execute(\"\"\"CREATE TABLE pathways (name TEXT, \n",
    "                                    description TEXT)\"\"\")\n",
    "conn.commit()"
   ]
  },
  {
   "cell_type": "markdown",
   "metadata": {},
   "source": [
    "### Genes & Enzymes Table\n",
    "\n",
    "An accession table of the genes corresponding to each enzyme in the enzymes table.\n",
    "\n",
    "**Columns:** enzyme TEXT, gene TEXT\n"
   ]
  },
  {
   "cell_type": "code",
   "execution_count": 36,
   "metadata": {},
   "outputs": [],
   "source": [
    "#Creates empty Genes and Enzymes table\n",
    "c.execute(\"\"\"DROP TABLE genes_and_enzymes\"\"\")\n",
    "c.execute(\"\"\"CREATE TABLE genes_and_enzymes (enzyme TEXT, \n",
    "                                    gene TEXT)\"\"\")\n",
    "conn.commit()"
   ]
  },
  {
   "cell_type": "markdown",
   "metadata": {},
   "source": [
    "The section below fills each table with the appropriate input."
   ]
  },
  {
   "cell_type": "code",
   "execution_count": 34,
   "metadata": {},
   "outputs": [],
   "source": [
    "#Fill the Pathway Table\n",
    "c.execute(\"\"\"INSERT INTO pathways\n",
    "                  VALUES ('glycolysis', \n",
    "                            'converts glucose into pyruvate to generate ATP and NADH'),\n",
    "                            ('citric acid cycle', \n",
    "                            'the complete oxidation of glucose derivatives to carbon dioxide to produce ATP'), \n",
    "                            ('pentose phosphate pathway', \n",
    "                            'converts glucose into pentose to generate NADPH and ribose 5-phosphate');\"\"\")\n",
    "conn.commit()"
   ]
  },
  {
   "cell_type": "markdown",
   "metadata": {},
   "source": [
    "FILL IN EXPLANATION LATER. (have this thing start off the enzyme/gene table by putting in the EC#. also have it put only the ec#, not the whole search term, into the EC column)"
   ]
  },
  {
   "cell_type": "code",
   "execution_count": 37,
   "metadata": {},
   "outputs": [],
   "source": [
    "#Fills enzymes table, and part of Genes and Enzymes table\n",
    "#\"terms\" refers to search terms used to query the Entrez database\n",
    "\n",
    "citric_acid_terms = ['homo sapiens[ORGN] EC 2.3.1.12', 'drosophila[ORGN] EC 2.3.1.12', 'Escherichia coli[ORGN] EC 2.3.1.12',\n",
    "                     'homo sapiens[ORGN] EC 1.2.4.1', 'drosophila[ORGN] EC 1.2.4.1', 'Escherichia coli[ORGN] EC 1.2.4.1',\n",
    "                     'homo sapiens[ORGN] EC 1.8.1.4', 'drosophila[ORGN] EC 1.8.1.4', 'Escherichia coli[ORGN] EC 1.8.1.4',\n",
    "                     'homo sapiens[ORGN] EC 4.1.1.32', 'drosophila[ORGN] EC 4.1.1.32', 'Escherichia coli[ORGN] EC 4.1.1.49',]\n",
    "glycolysis_terms = ['homo sapiens[ORGN] EC 5.4.2.2', 'drosophila[ORGN] EC 5.4.2.2', 'Escherichia coli[ORGN] EC 5.4.2.2',\n",
    "                    'homo sapiens[ORGN] EC 5.3.1.9', 'drosophila[ORGN] EC 5.3.1.9', 'Escherichia coli[ORGN] EC 5.3.1.9',\n",
    "                    'homo sapiens[ORGN] EC 4.2.1.11', 'drosophila[ORGN] EC 4.2.1.11', 'Escherichia coli[ORGN] EC 4.2.1.11',\n",
    "                    'homo sapiens[ORGN] EC 2.7.2.3', 'drosophila[ORGN] EC 2.7.2.3', 'Escherichia coli[ORGN] EC 2.7.2.3']\n",
    "pentose_phosphate_terms = ['homo sapiens[ORGN] EC 4.3.1.9', 'drosophila[ORGN] EC 4.3.1.9', 'Escherichia coli[ORGN] EC 4.3.1.9',\n",
    "                           'homo sapiens[ORGN] EC 2.7.1.11', 'drosophila[ORGN] EC 2.7.1.11', 'Escherichia coli[ORGN] EC 2.7.1.11', \n",
    "                           'homo sapiens[ORGN] EC 4.1.2.13', 'drosophila[ORGN] EC 4.1.2.13', 'Escherichia coli[ORGN] EC 4.1.2.13', \n",
    "                           'homo sapiens[ORGN] EC 3.1.3.11', 'drosophila[ORGN] EC 3.1.3.11', 'Escherichia coli[ORGN] EC 3.1.3.11']\n",
    "genes=[]\n",
    "\n",
    "\"\"\"\n",
    "Fills enzyme table with first search results to an Entrez protein database query. Adds one gene \n",
    "corresponding to each enzyme to a list of genes.\n",
    "\"\"\"\n",
    "def fill_enzyme_table(cycle_name, cycle_list):\n",
    "    for t in cycle_list:\n",
    "        handle = Entrez.esearch(db='protein',\n",
    "                        term=t,\n",
    "                        sort='relevance',\n",
    "                        idtype='acc')\n",
    "        results = Entrez.read(handle)['IdList']\n",
    "        l = t.split()\n",
    "        x = l[-1] #this is the EC#\n",
    "        if results:\n",
    "            first_result = results[0]\n",
    "            handle=Entrez.efetch(db='protein', id=first_result, rettype='gb', retmode='text')\n",
    "            temp = SeqIO.read(handle, 'gb')\n",
    "            \n",
    "            #insert into accession table here\n",
    "            c.execute(\"INSERT INTO genes_and_enzymes (enzyme) VALUES (?)\", (x,))\n",
    "            gene_acc_num = temp.annotations['db_source']\n",
    "            genes.append(gene_acc_num)\n",
    "            c.execute(\"INSERT INTO enzymes VALUES (?, ?, ?, ?)\", (temp.name, temp.description, x, cycle_name))\n",
    "\n",
    "fill_enzyme_table(\"citric acid cycle\", citric_acid_terms)\n",
    "fill_enzyme_table(\"glycolysis\", glycolysis_terms)\n",
    "fill_enzyme_table(\"pentose phosphate pathway\", pentose_phosphate_terms)\n",
    "\n",
    "conn.commit()"
   ]
  },
  {
   "cell_type": "markdown",
   "metadata": {},
   "source": [
    "### Enzymes In Pathways Table\n",
    "\n",
    "A table of enzymes corresponding to each metabolic pathway.\n",
    "\n",
    "**Columns:** pathway TEXT, name (TEXT)\n",
    "\n",
    "*\"name\" refers to the enzyme's name*"
   ]
  },
  {
   "cell_type": "code",
   "execution_count": 42,
   "metadata": {},
   "outputs": [],
   "source": [
    "#Creates the Enzymes In Pathways table\n",
    "c.execute(\"\"\"CREATE TABLE enzymes_in_pathways\n",
    "                        AS SELECT pathway, name FROM enzymes\"\"\")\n",
    "conn.commit()"
   ]
  },
  {
   "cell_type": "markdown",
   "metadata": {},
   "source": [
    "In order to get the gene accession numbers out of the enzyme entries, I had to just grab all the text surrounding the number itself. This next section just strips away the unneccessary text and puts the numbers in a new list."
   ]
  },
  {
   "cell_type": "code",
   "execution_count": 51,
   "metadata": {},
   "outputs": [],
   "source": [
    "gene_acc_nums = []\n",
    "\n",
    "for g in genes:\n",
    "    l = g.split()\n",
    "    gene_acc_nums.append(l[-1])"
   ]
  },
  {
   "cell_type": "code",
   "execution_count": 52,
   "metadata": {},
   "outputs": [],
   "source": [
    "\"\"\"\n",
    "Takes in a list of search queries to the Entrez database and populates the genes table \n",
    "with the results of those queries. Also finishes filling the Genes and Enzyme table.\n",
    "\n",
    "Note: I tried to add in the translated DNA sequences using temp.seq.translate(), but \n",
    "my laptop just couldn't handle all the data and kept timing out. Since I still can't log in \n",
    "remotely, this was all I could do.\n",
    "\"\"\"\n",
    "def fill_gene_table(genes_list):\n",
    "    for t in genes_list:\n",
    "        handle = Entrez.esearch(db='nucleotide',\n",
    "                        term=t,\n",
    "                        sort='relevance',\n",
    "                        idtype='acc')\n",
    "        results = Entrez.read(handle)['IdList']\n",
    "        if results:\n",
    "            first_result = results[0]\n",
    "            handle=Entrez.efetch(db='nucleotide', id=first_result, rettype='gb', retmode='text')\n",
    "            temp = SeqIO.read(handle, 'gb')\n",
    "            c.execute(\"INSERT INTO genes VALUES (?, ?, ?, ?)\", \n",
    "                      (temp.name, temp.description, temp.annotations['organism'], str(temp.seq)))\n",
    "            c.execute(\"INSERT INTO genes_and_enzymes (gene) VALUES (?)\", (temp.name,))\n",
    "        else:\n",
    "            continue\n",
    "\n",
    "\n",
    "fill_gene_table(gene_acc_nums)\n",
    "\n",
    "conn.commit()"
   ]
  },
  {
   "cell_type": "code",
   "execution_count": 53,
   "metadata": {},
   "outputs": [
    {
     "name": "stdout",
     "output_type": "stream",
     "text": [
      "('AK299562', 'Homo sapiens cDNA FLJ51063 complete cds, highly similar to Dihydrolipoyllysine-residue acetyltransferasecomponent of pyruvate dehydrogenase complex, mitochondrial precursor (EC 2.3.1.12)', 'Homo sapiens', 'CCCGTTCGTCGCAACAGCGTGACTACAGGGTATGGCGGGGTCCGGGCACTGTGCGGCTGGACCCCCAGTTCTGGGGCCACGCCGCGGAACCGCTTACTGCTGCAGCTTTTGGGGTCGCCCGGCCGCCGCTATTACAGTCTTCCCCCGCATCAGAAGGTTCCATTGCCTTCTCTTTCCCCCACAATGCAGGCAGGCACCATAGCCCGTTGGGAAAAAAAAGAGGGGGACAAAATCAATGAAGGAGACTTACTGGCAGAGATAGAAACTGACAAAGCCACTATAGGTTTTGAAGTACAGGAAGAAGGTTATCTGGCAAAAATCCTGGTCCCTGAAGGCACAAGAGATGTCCCTCTAGGAACCCCACTCTGTATCATTGTAGAAAAAGAGGCAGATATATCAGCACTTGCTGACTATAGGCCAACCGAAGTAACAGATTTAAAACCACAAGCGCCACCACCTACCCCACCCCCGGTGGCCGCTGTTCCTCCAACTCCCCAGCCTTTAGCTCCTACACCTTCAGCACCCTGCCCAGCTACTCCTGCTGGACCAAAGGGAAGGGTGTTTGTTAGCCCTCTTGCAAAGAAGTTGGCAGTAGAGAAAGGGATTGATCTTACACAAGTAAAAGGGACAGGACCAGATGGTAGAATCACCAAGAAGGATATCGACTCTTTTGTGCCTAGTAAAGTTGCTCCTGCTCCGGCAGCTGTTGTGCCTCCCACAGGTCCTGGAATGGCACCAGTTCCTACAGGTGTCTTCACAGATATCCCAATCAGCAACATTCGTCGGGTTATTGCACAGCGATTAATGCAATCAAAGCAAACCATACCTCATTATTACCTTTCTATCAATGTAAATATGGGAGAAGTTTTGTTGGTACGGAAAGAACTTAATAAGATATTAGAAGGGAGAAGCAAAATTTCTGTCAATGACTTCATCATAAAAGCTTCAGCTTTGGCATGTTTAAAAGTTCCCGAAGCAAATTCTTCTTGGATGGACACAGTTATAAGACAAAATCATGTTGTTGATGTCAGTGTTGCGGTCAGTACTCCTGCAGGACTCATCACACCTATTGTGTTTAATGCACATATAAAAGGAGTGGAAACCATTGCTAATGATGTTGTTTCTTTAGCAACCAAAGCAAGAGAGGGTAAACTACAGCCACATGAATTCCAGGGTGGCACTTTTACGATCTCCAATTTAGGAATGTTTGGAATTAAGAATTTCTCTGCTATTATTAACCCACCTCAAGCATGTATTTTGGCAATTGGTGCTTCAGAGGATGAACTGGTCCCTGCAGATAATGAAAAAGGGTTTGATGTGGCTAGCATGATGTCTGTTACACTCAGTTGTGATCACCGGGTGGTGGATGGAGCAGTTGGAGCCCAGTGGCTTGCTGAGTTTAGAAAGTACCTTGAAAAACCTATCACTATGTTGTTGTAACTAACTCAAGAATTTCTAAACTCTCCCAGGTCACACTGATTCATTCTTAACAAGATATTTATATGTTATTAAACAGGTGGTTCTTTTTATTTTAACCAGTTATTTTTATTATTGAGTCTGTCCAGATAAGTTATTTATAATGGGCATTACTGAATTTTTAAAATGCCGATTACACCCAAATATTGTGCACATTTAATAATCAGACACCAGATTTTTAGCTCTGTACTCCTAATTAAGGGACATGTATGTGGCCTTGCCTAGCCCTTTTGGTGATAAGTACTTCCTCTAGGAAATGTACGATAGGTAGAATTGTGGTTCCCTAAAGAC')\n"
     ]
    }
   ],
   "source": [
    "#how to print a whole table\n",
    "c.execute(\"\"\"SELECT * FROM genes\"\"\")\n",
    "print(c.fetchone())"
   ]
  },
  {
   "cell_type": "code",
   "execution_count": null,
   "metadata": {},
   "outputs": [],
   "source": []
  }
 ],
 "metadata": {
  "kernelspec": {
   "display_name": "Python 3",
   "language": "python",
   "name": "python3"
  },
  "language_info": {
   "codemirror_mode": {
    "name": "ipython",
    "version": 3
   },
   "file_extension": ".py",
   "mimetype": "text/x-python",
   "name": "python",
   "nbconvert_exporter": "python",
   "pygments_lexer": "ipython3",
   "version": "3.6.5"
  }
 },
 "nbformat": 4,
 "nbformat_minor": 2
}

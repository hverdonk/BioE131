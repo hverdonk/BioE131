{
 "cells": [
  {
   "cell_type": "markdown",
   "metadata": {},
   "source": [
    "### Here's how my database is set up:\n",
    "I've got a table of genes, a table of enzymes, and a table of pathways. Depending on how much time I get later, I might also make some associative tables linking them.\n",
    "\n",
    "### Gene Table\n",
    "CREATE TABLE genes (id INT PRIMARY KEY ASC, name TEXT, description TEXT, organism TEXT,\n",
    "chromosome TEXT, start INT, end INT, strand VARCHAR(1), sequence TEXT, translated TEXT)\n",
    "\n",
    "**Start with name, description, organism, and nucleotide sequence. Additional fields might include chromosome, start and end position, strand, and translated sequence. For eukaryotes, the nucleotide sequence should be the spliced mRNA and the coordinates should span the entire locus.**\n",
    "\n",
    "### Enzyme Table\n",
    "CREATE TABLE enzymes (id INT PRIMARY KEY ASC, name TEXT, function TEXT, \n",
    "EC INT, pathway TEXT)\n",
    "**EC = Enzyme Commission number\n",
    "**name, function, and enzyme commission (EC) number. Multiple genes encode enzymes that perform the same function, so there ought to be fewer enzymes than genes.**\n",
    "\n",
    "### Pathway Table\n",
    "CREATE TABLE pathways (id INT PRIMARY KEY ASC, name TEXT, description TEXT)"
   ]
  },
  {
   "cell_type": "code",
   "execution_count": 25,
   "metadata": {},
   "outputs": [],
   "source": [
    "#This segment connects to the metabolism database and readies it to receive input\n",
    "import sqlite3\n",
    "from Bio import Entrez\n",
    "from Bio import SeqIO\n",
    "Entrez.email = 'hverdonk@berkeley.edu'\n",
    "conn = sqlite3.connect('metabolism.db')\n",
    "c = conn.cursor()"
   ]
  },
  {
   "cell_type": "code",
   "execution_count": 48,
   "metadata": {},
   "outputs": [],
   "source": [
    "#Creates emtpy Gene Table\n",
    "c.execute(\"\"\"CREATE TABLE genes (name TEXT, \n",
    "                                description TEXT, \n",
    "                                organism TEXT,  \n",
    "                                nt_sequence TEXT)\"\"\")\n",
    "conn.commit()"
   ]
  },
  {
   "cell_type": "code",
   "execution_count": 112,
   "metadata": {},
   "outputs": [],
   "source": [
    "#Creates empty Enzyme Table\n",
    "c.execute(\"\"\"DROP TABLE enzymes\"\"\")\n",
    "c.execute(\"\"\"CREATE TABLE enzymes (name TEXT, \n",
    "                                    description TEXT, \n",
    "                                    EC TEXT, \n",
    "                                    pathway TEXT)\"\"\")\n",
    "conn.commit()"
   ]
  },
  {
   "cell_type": "code",
   "execution_count": 33,
   "metadata": {},
   "outputs": [],
   "source": [
    "#Creates empty Pathway Table\n",
    "c.execute(\"\"\"CREATE TABLE pathways (name TEXT, \n",
    "                                    description TEXT)\"\"\")\n",
    "conn.commit()"
   ]
  },
  {
   "cell_type": "code",
   "execution_count": 34,
   "metadata": {},
   "outputs": [],
   "source": [
    "#Fill the Pathway Table\n",
    "c.execute(\"\"\"INSERT INTO pathways\n",
    "                  VALUES ('glycolysis', \n",
    "                            'converts glucose into pyruvate to generate ATP and NADH'),\n",
    "                            ('citric acid cycle', \n",
    "                            'the complete oxidation of glucose derivatives to carbon dioxide to produce ATP'), \n",
    "                            ('pentose phosphate pathway', \n",
    "                            'converts glucose into pentose to generate NADPH and ribose 5-phosphate');\"\"\")\n",
    "conn.commit()"
   ]
  },
  {
   "cell_type": "code",
   "execution_count": 35,
   "metadata": {},
   "outputs": [
    {
     "name": "stdout",
     "output_type": "stream",
     "text": [
      "[('glycolysis', 'converts glucose into pyruvate to generate ATP and NADH'), ('citric acid cycle', 'the complete oxidation of glucose derivatives to carbon dioxide to produce ATP'), ('pentose phosphate pathway', 'converts glucose into pentose to generate NADPH and ribose 5-phosphate')]\n"
     ]
    }
   ],
   "source": [
    "#how to print a whole table\n",
    "c.execute(\"\"\"SELECT * FROM pathways\"\"\")\n",
    "print(c.fetchall())"
   ]
  },
  {
   "cell_type": "code",
   "execution_count": 110,
   "metadata": {},
   "outputs": [],
   "source": [
    "#finds accession numbers for genes that match our search term (for every enzyme, add which pathway it's part of)\n",
    "handle = Entrez.esearch(db='nucleotide',\n",
    "                        term='embl accession FITM01000007.1',\n",
    "                        sort='relevance',\n",
    "                        idtype='acc')\n",
    "\n",
    "#fetches the records corresponding to each accession number we found earlier\n",
    "for i in Entrez.read(handle)['IdList']:\n",
    "    handle=Entrez.efetch(db='nucleotide', id=i, rettype='gb', retmode='text')\n",
    "    print(SeqIO.read(handle, 'gb') + '\\n' + '\\n')"
   ]
  },
  {
   "cell_type": "code",
   "execution_count": 113,
   "metadata": {},
   "outputs": [],
   "source": [
    "citric_acid_terms = ['EC 2.3.1.12', 'EC 1.2.4.1', 'EC 1.8.1.4', 'EC 4.1.1.49', 'EC 4.1.1.32']\n",
    "glycolysis_terms = ['EC 5.4.2.2', 'EC 5.3.1.9', 'EC 4.2.1.11', 'EC 2.7.2.3']\n",
    "pentose_phosphate_terms = ['EC 4.3.1.9', 'EC 2.7.1.11', 'EC 4.1.2.13', 'EC 3.1.3.11']\n",
    "genes=[]\n",
    "\n",
    "\"\"\"\n",
    "Fills enzyme table and adds one gene corresponding to that enzyme to a list of genes. \n",
    "Original function would add all results of the search query to the table, but it kept timing out :(\n",
    "\"\"\"\n",
    "def fill_enzyme_table(cycle_name, cycle_list):\n",
    "    for t in cycle_list:\n",
    "        handle = Entrez.esearch(db='protein',\n",
    "                        term=t,\n",
    "                        sort='relevance',\n",
    "                        idtype='acc')\n",
    "        results = Entrez.read(handle)['IdList']\n",
    "        if results:\n",
    "            for i in range(3):\n",
    "                next_result = results[i]\n",
    "                handle=Entrez.efetch(db='protein', id=next_result, rettype='gb', retmode='text')\n",
    "                temp = SeqIO.read(handle, 'gb')\n",
    "                gene_acc_num = temp.annotations['db_source'][len(\"embl accession \"):]\n",
    "                genes.append(gene_acc_num)\n",
    "                c.execute(\"INSERT INTO enzymes VALUES (?, ?, ?, ?)\", (temp.name, temp.description, t, cycle_name))\n",
    "        else:\n",
    "            continue\n",
    "\n",
    "fill_enzyme_table(\"citric acid cycle\", citric_acid_terms)\n",
    "fill_enzyme_table(\"glycolysis\", glycolysis_terms)\n",
    "fill_enzyme_table(\"pentose phosphate pathway\", pentose_phosphate_terms)\n"
   ]
  },
  {
   "cell_type": "code",
   "execution_count": 114,
   "metadata": {},
   "outputs": [
    {
     "name": "stdout",
     "output_type": "stream",
     "text": [
      "[('CBW75502', 'Dihydrolipoamide acetyltransferase component of pyruvate dehydrogenase complex (EC 2.3.1.12) [Paraburkholderia rhizoxinica HKI 454]', 'EC 2.3.1.12', 'citric acid cycle'), ('SAY38694', 'Dihydrolipoamide acetyltransferase component of pyruvate dehydrogenase complex (EC 2.3.1.12) [Candidatus Synechococcus spongiarum]', 'EC 2.3.1.12', 'citric acid cycle'), ('CTQ99038', 'Dihydrolipoamide acetyltransferase component of pyruvate dehydrogenase complex (EC 2.3.1.12) [Kibdelosporangium sp. MJ126-NF4]', 'EC 2.3.1.12', 'citric acid cycle'), ('CBW75503', 'Pyruvate dehydrogenase E1 component (EC 1.2.4.1) [Paraburkholderia rhizoxinica HKI 454]', 'EC 1.2.4.1', 'citric acid cycle'), ('CZB10753', 'Pyruvate dehydrogenase E1 component beta subunit (EC 1.2.4.1) [Candidatus Synechococcus spongiarum]', 'EC 1.2.4.1', 'citric acid cycle'), ('CZB19904', 'Pyruvate dehydrogenase E1 component alpha subunit (EC 1.2.4.1) [Candidatus Synechococcus spongiarum]', 'EC 1.2.4.1', 'citric acid cycle'), ('CBW75501', 'Dihydrolipoamide dehydrogenase (EC 1.8.1.4) [Paraburkholderia rhizoxinica HKI 454]', 'EC 1.8.1.4', 'citric acid cycle'), ('CBW74980', 'Dihydrolipoamide dehydrogenase (EC 1.8.1.4) [Paraburkholderia rhizoxinica HKI 454]', 'EC 1.8.1.4', 'citric acid cycle'), ('SAY38925', 'Dihydrolipoamide dehydrogenase of pyruvate dehydrogenase complex (EC 1.8.1.4) / Dihydrolipoamide dehydrogenase (EC 1.8.1.4) [Candidatus Synechococcus spongiarum]', 'EC 1.8.1.4', 'citric acid cycle'), ('CDO60077', 'Phosphoenolpyruvate carboxykinase [ATP] (EC 4.1.1.49) [Candidatus Phaeomarinobacter ectocarpi]', 'EC 4.1.1.49', 'citric acid cycle'), ('CCG32951', 'Phosphoenolpyruvate carboxykinase [ATP] (EC 4.1.1.49) [Klebsiella aerogenes EA1509E]', 'EC 4.1.1.49', 'citric acid cycle'), ('CAK05525', 'Phosphoenolpyruvate carboxykinase [ATP] (EC 4.1.1.49) (PEP carboxykinase) (Phosphoenolpyruvate carboxylase) (PEPCK) [Rhizobium leguminosarum bv. viciae 3841]', 'EC 4.1.1.49', 'citric acid cycle'), ('CBW76386', 'Phosphoenolpyruvate carboxykinase [GTP] (EC 4.1.1.32) [Paraburkholderia rhizoxinica HKI 454]', 'EC 4.1.1.32', 'citric acid cycle'), ('CTQ96991', 'Phosphoenolpyruvate carboxykinase [GTP] (EC 4.1.1.32) [Kibdelosporangium sp. MJ126-NF4]', 'EC 4.1.1.32', 'citric acid cycle'), ('CTQ93828', 'Phosphoenolpyruvate carboxykinase [GTP] (EC 4.1.1.32) [Kibdelosporangium sp. MJ126-NF4]', 'EC 4.1.1.32', 'citric acid cycle')]\n"
     ]
    }
   ],
   "source": [
    "c.execute(\"\"\"SELECT * FROM enzymes\"\"\")\n",
    "print(c.fetchall())"
   ]
  },
  {
   "cell_type": "code",
   "execution_count": 115,
   "metadata": {},
   "outputs": [
    {
     "name": "stdout",
     "output_type": "stream",
     "text": [
      "['FR687359.1', 'FITM01000071.1', 'LN877229.1', 'FR687359.1', 'FITM01000007.1', 'FITM01000129.1', 'FR687359.1', 'FR687359.1', 'FITM01000101.1', 'HG966617.1', 'FO203355.1', 'AM236080.1', 'FR687359.1', 'LN877229.1', 'LN877229.1']\n"
     ]
    }
   ],
   "source": [
    "print(genes)"
   ]
  },
  {
   "cell_type": "code",
   "execution_count": null,
   "metadata": {},
   "outputs": [],
   "source": []
  }
 ],
 "metadata": {
  "kernelspec": {
   "display_name": "Python 3",
   "language": "python",
   "name": "python3"
  },
  "language_info": {
   "codemirror_mode": {
    "name": "ipython",
    "version": 3
   },
   "file_extension": ".py",
   "mimetype": "text/x-python",
   "name": "python",
   "nbconvert_exporter": "python",
   "pygments_lexer": "ipython3",
   "version": "3.6.5"
  }
 },
 "nbformat": 4,
 "nbformat_minor": 2
}

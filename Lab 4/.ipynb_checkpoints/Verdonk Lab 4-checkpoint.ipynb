{
 "cells": [
  {
   "cell_type": "markdown",
   "metadata": {},
   "source": [
    "### Here's how my database is set up:\n",
    "I've got a table of genes, a table of enzymes, and a table of pathways. Depending on how much time I get later, I might also make some associative tables linking them.\n",
    "\n",
    "### Gene Table\n",
    "CREATE TABLE genes (id INT PRIMARY KEY ASC, name TEXT, description TEXT, organism TEXT,\n",
    "chromosome TEXT, start INT, end INT, strand VARCHAR(1), sequence TEXT, translated TEXT)\n",
    "\n",
    "**Start with name, description, organism, and nucleotide sequence. Additional fields might include chromosome, start and end position, strand, and translated sequence. For eukaryotes, the nucleotide sequence should be the spliced mRNA and the coordinates should span the entire locus.**\n",
    "\n",
    "### Enzyme Table\n",
    "CREATE TABLE enzymes (id INT PRIMARY KEY ASC, name TEXT, function TEXT, \n",
    "EC INT, pathway TEXT)\n",
    "**EC = Enzyme Commission number\n",
    "**name, function, and enzyme commission (EC) number. Multiple genes encode enzymes that perform the same function, so there ought to be fewer enzymes than genes.**\n",
    "\n",
    "### Pathway Table\n",
    "CREATE TABLE pathways (id INT PRIMARY KEY ASC, name TEXT, description TEXT)"
   ]
  },
  {
   "cell_type": "code",
   "execution_count": 25,
   "metadata": {},
   "outputs": [],
   "source": [
    "#This segment connects to the metabolism database and readies it to receive input\n",
    "import sqlite3\n",
    "from Bio import Entrez\n",
    "from Bio import SeqIO\n",
    "Entrez.email = 'hverdonk@berkeley.edu'\n",
    "conn = sqlite3.connect('metabolism.db')\n",
    "c = conn.cursor()"
   ]
  },
  {
   "cell_type": "code",
   "execution_count": 48,
   "metadata": {},
   "outputs": [],
   "source": [
    "#Creates emtpy Gene Table\n",
    "c.execute(\"\"\"CREATE TABLE genes (name TEXT, \n",
    "                                description TEXT, \n",
    "                                organism TEXT,  \n",
    "                                nt_sequence TEXT)\"\"\")\n",
    "conn.commit()"
   ]
  },
  {
   "cell_type": "code",
   "execution_count": 49,
   "metadata": {},
   "outputs": [],
   "source": [
    "#Creates empty Enzyme Table\n",
    "c.execute(\"\"\"CREATE TABLE enzymes (name TEXT, \n",
    "                                    function TEXT, \n",
    "                                    EC INT, \n",
    "                                    pathway TEXT)\"\"\")\n",
    "conn.commit()"
   ]
  },
  {
   "cell_type": "code",
   "execution_count": 33,
   "metadata": {},
   "outputs": [],
   "source": [
    "#Creates empty Pathway Table\n",
    "c.execute(\"\"\"CREATE TABLE pathways (name TEXT, \n",
    "                                    description TEXT)\"\"\")\n",
    "conn.commit()"
   ]
  },
  {
   "cell_type": "code",
   "execution_count": 34,
   "metadata": {},
   "outputs": [],
   "source": [
    "#Fill the Pathway Table\n",
    "c.execute(\"\"\"INSERT INTO pathways\n",
    "                  VALUES ('glycolysis', \n",
    "                            'converts glucose into pyruvate to generate ATP and NADH'),\n",
    "                            ('citric acid cycle', \n",
    "                            'the complete oxidation of glucose derivatives to carbon dioxide to produce ATP'), \n",
    "                            ('pentose phosphate pathway', \n",
    "                            'converts glucose into pentose to generate NADPH and ribose 5-phosphate');\"\"\")\n",
    "conn.commit()"
   ]
  },
  {
   "cell_type": "code",
   "execution_count": 35,
   "metadata": {},
   "outputs": [
    {
     "name": "stdout",
     "output_type": "stream",
     "text": [
      "[('glycolysis', 'converts glucose into pyruvate to generate ATP and NADH'), ('citric acid cycle', 'the complete oxidation of glucose derivatives to carbon dioxide to produce ATP'), ('pentose phosphate pathway', 'converts glucose into pentose to generate NADPH and ribose 5-phosphate')]\n"
     ]
    }
   ],
   "source": [
    "#how to print a whole table\n",
    "c.execute(\"\"\"SELECT * FROM pathways\"\"\")\n",
    "print(c.fetchall())"
   ]
  },
  {
   "cell_type": "code",
   "execution_count": 72,
   "metadata": {},
   "outputs": [
    {
     "name": "stdout",
     "output_type": "stream",
     "text": [
      "ID: FO203355.1\n",
      "Name: FO203355\n",
      "Description: Enterobacter aerogenes EA1509E complete genome\n",
      "Database cross-references: BioProject:PRJNA61107, BioSample:SAMEA3138432\n",
      "Number of features: 5375\n",
      "/molecule_type=DNA\n",
      "/topology=circular\n",
      "/data_file_division=BCT\n",
      "/date=27-FEB-2015\n",
      "/accessions=['FO203355']\n",
      "/sequence_version=1\n",
      "/keywords=['']\n",
      "/source=Klebsiella aerogenes EA1509E\n",
      "/organism=Klebsiella aerogenes EA1509E\n",
      "/taxonomy=['Bacteria', 'Proteobacteria', 'Gammaproteobacteria', 'Enterobacterales', 'Enterobacteriaceae', 'Klebsiella']\n",
      "/references=[Reference(title=\"The rhizome of the multidrug-resistant Enterobacter aerogenes genome reveals how new 'killer bugs' are created because of a sympatric lifestyle\", ...), Reference(title='Direct Submission', ...)]\n",
      "Seq('CCCGGTTCTCTCCGGACCTAAAACTGTGTTAAACTCTTCGCGTTTTTCTGTAAG...G\n",
      "\n",
      "', IUPACAmbiguousDNA())\n"
     ]
    }
   ],
   "source": [
    "#finds accession numbers for genes that match our search term (for every enzyme, add which pathway it's part of)\n",
    "handle = Entrez.esearch(db='nucleotide',\n",
    "                        term='FO203355.1',\n",
    "                        sort='relevance',\n",
    "                        idtype='acc')\n",
    "\n",
    "#fetches the records corresponding to each accession number we found earlier\n",
    "for i in Entrez.read(handle)['IdList']:\n",
    "    handle=Entrez.efetch(db='nucleotide', id=i, rettype='gb', retmode='text')\n",
    "    print(SeqIO.read(handle, 'gb') + '\\n' + '\\n')"
   ]
  },
  {
   "cell_type": "markdown",
   "metadata": {},
   "source": [
    "### Enzymes:\n",
    "**choose 4 enzymes per pathway, choose 3 genes from each enzyme (one for human, one for *Drosophila*, one for *E. coli***\n",
    "\n",
    "(accession #, name, desc)\n",
    "\n",
    "glycolysis: \n",
    "    K01085 agp     glu-1-phosphate                  *E. Coli*\n",
    "    \n",
    "    K01623 ALDO    fructose-bisphosphate-aldolase   *\n",
    "    \n",
    "    K01689 ENO,eno enolase\n",
    "    \n",
    "    K13951 ADH1_7  alcohol dehydrogenase 1/7\n",
    "    \n",
    "citric acid:\n",
    "pathways:"
   ]
  },
  {
   "cell_type": "code",
   "execution_count": 74,
   "metadata": {},
   "outputs": [
    {
     "name": "stdout",
     "output_type": "stream",
     "text": [
      "Phosphoglucomutase (EC 5.4.2.2) [Klebsiella aerogenes EA1509E]\n",
      "['CCG31158']\n",
      "phosphoglucomutase (ec 5.4.2.2) [Photorhabdus asymbiotica subsp. asymbiotica ATCC 43949]\n",
      "['CAR67580']\n",
      "Phosphoglucomutase (EC 5.4.2.2) [Enterococcus faecium]\n",
      "['CUX98262']\n",
      "Phosphoglucomutase (EC 5.4.2.2) [Streptococcus pneumoniae SPNA45]\n",
      "['CCM08969']\n",
      "phosphoglucomutase [Enterobacter roggenkampii EC_38VIM1]\n",
      "['EPY97605']\n",
      "phosphoglucomutase [Escherichia coli]\n",
      "['PVH54613']\n",
      "phosphoglucomutase [Escherichia coli]\n",
      "['PVH53649']\n",
      "phosphoglucomutase [Escherichia coli]\n",
      "['PVH42237']\n",
      "alpha-phosphoglucomutase / phosphomannomutase [Methanocella conradii HZ254]\n",
      "['AFD00006']\n",
      "phophoglucomutase-1 protein, putative [Cryptosporidium muris RN66]\n",
      "['EEA08500']\n",
      "pgm [Corynebacterium jeikeium K411]\n",
      "['CAI36625']\n",
      "Phosphoglucomutase [Bartonella tribocorum CIP 105476]\n",
      "['CAK02027']\n",
      "phosphoglucomutase [Neisseria meningitidis Z2491]\n",
      "['CAM08223']\n",
      "phosphoglucomutase [Ralstonia pickettii DTP0602]\n",
      "['AGW91639']\n",
      "phosphoglucomutase, alpha-D-glucose phosphate-specific [Vibrio cholerae O1 str. EC-0051]\n",
      "['EMQ15928']\n",
      "phosphoglucomutase, alpha-D-glucose phosphate-specific [Vibrio cholerae O1 str. EC-0012]\n",
      "['EMQ11274']\n",
      "phosphoglucomutase, alpha-D-glucose phosphate-specific [Vibrio cholerae O1 str. EC-0027]\n",
      "['EMQ10710']\n",
      "phosphoglucomutase, alpha-D-glucose phosphate-specific [Vibrio cholerae O1 str. EC-0009]\n",
      "['EMQ04501']\n",
      "phophoglucomutase-1 protein [Cryptosporidium muris RN66]\n",
      "['XP_002142849']\n",
      "alpha-D-glucose phosphate-specific phosphoglucomutase [Enterobacter sp. EC-NT1]\n",
      "['RDZ21537']\n"
     ]
    }
   ],
   "source": [
    "citric_acid_terms = ['EC 2.3.1.12', 'EC 1.2.4.1', 'EC 1.8.1.4', 'EC 4.1.1.49', 'EC 4.1.1.32']\n",
    "glycolysis_terms = ['EC 5.4.2.2', 'EC 5.3.1.9', ]\n",
    "pentose_phosphate_terms = []\n",
    "\n",
    "#finds accession numbers for genes that match our search term (need name, function, EC#)\n",
    "handle = Entrez.esearch(db='protein',\n",
    "                        term='EC 5.4.2.2',\n",
    "                        sort='relevance',\n",
    "                        idtype='acc')\n",
    "\n",
    "#fetches the records corresponding to each accession number we found earlier\n",
    "for i in Entrez.read(handle)['IdList']:\n",
    "    handle=Entrez.efetch(db='protein', id=i, rettype='gb', retmode='text')\n",
    "    temp = SeqIO.read(handle, 'gb')\n",
    "    print(temp.description)\n",
    "    print(temp.annotations['accessions'])\n",
    "    #print(SeqIO.read(handle, 'gb') + '\\n' + '\\n')"
   ]
  },
  {
   "cell_type": "code",
   "execution_count": null,
   "metadata": {},
   "outputs": [],
   "source": []
  }
 ],
 "metadata": {
  "kernelspec": {
   "display_name": "Python 3",
   "language": "python",
   "name": "python3"
  },
  "language_info": {
   "codemirror_mode": {
    "name": "ipython",
    "version": 3
   },
   "file_extension": ".py",
   "mimetype": "text/x-python",
   "name": "python",
   "nbconvert_exporter": "python",
   "pygments_lexer": "ipython3",
   "version": "3.6.5"
  }
 },
 "nbformat": 4,
 "nbformat_minor": 2
}

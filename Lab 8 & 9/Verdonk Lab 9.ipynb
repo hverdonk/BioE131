{
 "cells": [
  {
   "cell_type": "markdown",
   "metadata": {},
   "source": [
    "## Genome Assembly Statistics\n",
    "\n",
    "Ran assembly-stats on contigs.fasta and scaffolds.fasta with the following commands:\n",
    "\n",
    "```assembly-stats contigs.fasta```  \n",
    "```\n",
    "stats for contigs.fasta\n",
    "sum = 6678635, n = 176, ave = 37946.79, largest = 414008\n",
    "N50 = 234690, n = 11\n",
    "N60 = 202142, n = 14\n",
    "N70 = 154232, n = 18\n",
    "N80 = 103367, n = 23\n",
    "N90 = 81286, n = 30\n",
    "N100 = 128, n = 176\n",
    "N_count = 0\n",
    "Gaps = 0\n",
    "```  \n",
    "**Total Length of All Contigs:** 6678635 bp  \n",
    "**Number of Contigs:** 176  \n",
    "**N50:** 234690  \n",
    "\n",
    "\n",
    "```assembly-stats scaffolds.fasta```  \n",
    "```\n",
    "stats for scaffolds.fasta\n",
    "sum = 6678655, n = 174, ave = 38383.07, largest = 414008\n",
    "N50 = 234690, n = 11\n",
    "N60 = 202142, n = 14\n",
    "N70 = 154232, n = 18\n",
    "N80 = 103367, n = 23\n",
    "N90 = 81821, n = 30\n",
    "N100 = 128, n = 174\n",
    "N_count = 20\n",
    "Gaps = 2\n",
    "```  \n",
    "**Total Length of All Scaffolds:** 6678655 bp  \n",
    "**Number of Scaffolds:** 174   \n",
    "**N50:** 234690    \n",
    "\n",
    "\n",
    "The N50 statistic is a measure of the quality of a genome assembly. It represents the sequence length of the shortest contig (or scaffold) at 50% of the total genome length. We use N50 rather than mean or median contig (or scaffold) length because it is a more robust statistic and can better account for very long reads. For our data, scaffolds are approximately equal in length to contigs"
   ]
  },
  {
   "cell_type": "markdown",
   "metadata": {},
   "source": [
    "## 16S rRNA Genes\n",
    "\n",
    "To isolate the 16S rRNA genes from our genome, we ran the ```rna_hmm3.py``` program on our assembled contigs as follows:  \n",
    "\n",
    "```rna_hmm3.py -i contigs.fasta -o ~/16S_rRNA.gff```  \n",
    "\n",
    "After removing all lines that did not contain 16S rRNA genes, we ran ```bedtools getfasta``` to extract nucleic acid sequences of the 16S rRNA genes from our assembly.  \n",
    "\n",
    "```bedtools getfasta -fi contigs.fasta -bed 16S_rRNA.gf```\n",
    "\n",
    "This generated a file called contigs.fasta.fai, but the appropriate sequences were printed to the command line. We used the Ribosomal Database Project’s SeqMatch tool to identify the genus each sequence originates from (to save space, we did not copy down the sequences in this ipython notebook).\n",
    "\n",
    "**Sequence 1:** *Pseudomonas*  \n",
    "**Sequence 2:** *Pseudomonas*  \n",
    "**Sequence 3:** *Pseudomonas*  \n",
    "**Sequence 4:** *Pseudomonas*  \n",
    "**Sequence 5:** *Pseudomonas*  \n",
    "**Sequence 6:** *Pseudomonas*  \n",
    "\n",
    "The data clearly indicate that the bacterium was from the genus *Pseudomonas*. We weren't able to identify which species this genome was from because it matched with the 16S rRNA of many different species (S_ab scores greater than 0.98) , likely because rRNA is so highly conserved.  "
   ]
  },
  {
   "cell_type": "markdown",
   "metadata": {},
   "source": [
    "## Genome Annotation\n",
    "\n",
    "We used BASys and RAST to annotate our newly assembled genome."
   ]
  },
  {
   "cell_type": "markdown",
   "metadata": {},
   "source": [
    "## Annotation Analysis\n",
    "\n",
    "According to Mark W. Silby, all of the *Pseudomonas* species share a versatile capacity for metabolic adaptation to a broad range of fluctuating environments and conditions. This claim is supported by our RAST analysis, which shows that this particular *Pseudomonas* specimen seems to be auxotrophic for a number of amino acids, including histidine, methionine, lysine, phenylalanine, tyrosine, and threonine. In fact, 559/2673 (20.9%) of the annotated genes appear to be devoted to the biosynthesis and degradation of amino acids and their derivatives - ideal for any bacterial species that must adapt to resource scarcity.\n",
    "\n",
    "*Pseudomonas aeuroginosa* shows \"outstanding capacity for developing antimicrobial resistance to nearly all available antipseudomonal agents through the selection of chromosomal mutations\" (López-Causapé). It is likely that our *Pseudomonas* strain shares some or all of this resistance, given that it contains three genes that code for multidrug resistance efflux pumps, as well as several other genes that confer resistance to Streptothricin, fluoroquinolones, and Fosfomycin. Given these data, is entirely possible that this bacterium is also resistant to common antibacterial agents such as penicillin, tetracycline, and chloramphenicol. However, it encodes no toxins, bacteriocins, or antibiotics of its own (though it has two genes for E2 bacteriocin tolerance).\n",
    "\n",
    "Though it does not appear to contain its own virulence genes, there is some evidence of horizontal gene transfer (HGT) of the *Mycobacterium* virulence operon. As HGT is common among bacteria, this is not surprising, though it may indicate increased pathogenicity in our particular sample.\n",
    "\n",
    "\n"
   ]
  },
  {
   "cell_type": "markdown",
   "metadata": {},
   "source": [
    "## Works Cited\n",
    "López-Causapé, C., Cabot, G., del Barrio-Tofiño, E., & Oliver, A. (2018). The Versatile Mutational Resistome of *Pseudomonas aeruginosa*. *Frontiers in Microbiology*, 9, 685. http://doi.org/10.3389/fmicb.2018.00685\n",
    "\n",
    "Mark W. Silby, Craig Winstanley, Scott A.C. Godfrey, Stuart B. Levy, Robert W. Jackson; *Pseudomonas* genomes: diverse and adaptable, *FEMS Microbiology Reviews*, Volume 35, Issue 4, 1 July 2011, Pages 652–680, https://doi.org/10.1111/j.1574-6976.2011.00269.x"
   ]
  },
  {
   "cell_type": "code",
   "execution_count": null,
   "metadata": {},
   "outputs": [],
   "source": []
  }
 ],
 "metadata": {
  "kernelspec": {
   "display_name": "Python 3",
   "language": "python",
   "name": "python3"
  },
  "language_info": {
   "codemirror_mode": {
    "name": "ipython",
    "version": 3
   },
   "file_extension": ".py",
   "mimetype": "text/x-python",
   "name": "python",
   "nbconvert_exporter": "python",
   "pygments_lexer": "ipython3",
   "version": "3.6.6"
  }
 },
 "nbformat": 4,
 "nbformat_minor": 2
}

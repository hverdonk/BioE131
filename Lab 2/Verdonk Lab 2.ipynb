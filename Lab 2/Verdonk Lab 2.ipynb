{
 "cells": [
  {
   "cell_type": "code",
   "execution_count": 35,
   "metadata": {},
   "outputs": [
    {
     "name": "stdout",
     "output_type": "stream",
     "text": [
      " , hu.39\n",
      " |\n",
      " | rh.50\n",
      " |\n",
      " , rh.57\n",
      " |\n",
      " | rh.51\n",
      " |\n",
      " | rh.49\n",
      " |\n",
      "_, rh.53\n",
      " |\n",
      " | rh.64\n",
      " |\n",
      " , rh.61\n",
      " |\n",
      " |, rh.58\n",
      " ||\n",
      " ||                              , pi.2\n",
      " ||          ____________________|\n",
      " ||         |                    |, pi.3\n",
      " ||         |                    ||\n",
      " ||         |                     | pi.1\n",
      " ||         |\n",
      " ||         |           , rh.10\n",
      " ||        _|          ,|\n",
      " ||       | |          ||, bb.1\n",
      " ||       | |          |||\n",
      " ||       | |   _______| | bb.2\n",
      " ||       | |  |       |\n",
      " ||       | |  |       | _ hu.17\n",
      " ||       | |  |       ||\n",
      " ||       | |__|        | hu.6\n",
      " ||       |    |\n",
      " ||       |    |    ______ rh.2\n",
      " ||       |    |   |\n",
      " ||       |    |___|         __ rh.40\n",
      " ||       |        |        |\n",
      " ||       |        |________|, hu.67\n",
      " ||       |                 ||\n",
      " ||       |                 |, hu.37\n",
      " ||       |                  |\n",
      " ||       |                  |, hu.40\n",
      " ||       |                  ||\n",
      " ||       |                  || hu.66\n",
      " ||       |                  ||\n",
      " ||       |                   , hu.41\n",
      " ||       |                   |\n",
      " ||       |                   | rh.38\n",
      " ||       |                   |\n",
      " ||       |                   | hu.42\n",
      " ||       |\n",
      " ||_______|                                        , cy.3\n",
      " |        |                                        |\n",
      " |        |                          ______________, cy.6\n",
      " |        |                         |              |\n",
      " |        |                         |              | cy.4\n",
      " |        |                         |              |\n",
      " |        |                _________|              , cy.5\n",
      " |        |               |         |              |\n",
      " |        |               |         |              | rh.13\n",
      " |        |               |         |\n",
      " |        |               |         |       , rh.35\n",
      " |        |            ___|         |_______|\n",
      " |        |           |   |                 , rh.36\n",
      " |        |           |   |                 |\n",
      " |        |           |   |                 | rh.37\n",
      " |        |           |   |\n",
      " |        |           |   |         ______ cy.2\n",
      " |        |           |   |________|\n",
      " |        |           |            |     __ rh.54\n",
      " |        |    _______|            |____|\n",
      " |        |   |       |                 |      __ rh.55\n",
      " |        |   |       |                 |_____|\n",
      " |        |   |       |                       | , rh.48\n",
      " |        |   |       |                       |_|\n",
      " |        |   |       |                         | rh.62\n",
      " |        |   |       |\n",
      " |        |   |       |                                _ hu.43\n",
      " |        |   |       |_______________________________|\n",
      " |        |___|                                       | , hu.48\n",
      " |            |                                       |_|\n",
      " |            |                                         |      , hu.44\n",
      " |            |                                         |______|\n",
      " |            |                                                | hu.46\n",
      " |            |\n",
      " |            |                                                   _ hu.14\n",
      " |            |     _____________________________________________|\n",
      " |            |    |                                             |  , hu.31\n",
      " |            |____|                                             |__|\n",
      " |                 |                                                | hu.32\n",
      " |                 |\n",
      " |                 |_______________ rh.43\n",
      " |\n",
      " | rh.52\n",
      "\n"
     ]
    }
   ],
   "source": [
    "import matplotlib.pyplot as plt\n",
    "%matplotlib inline\n",
    "\n",
    "from Bio import Phylo\n",
    "from Bio import SeqIO\n",
    "from Bio.SeqRecord import SeqRecord\n",
    "from Bio.Seq import Seq\n",
    "\n",
    "tree = Phylo.read(\"tree.nwk\", \"newick\")\n",
    "\n",
    "Phylo.draw_ascii(tree)"
   ]
  },
  {
   "cell_type": "code",
   "execution_count": 6,
   "metadata": {},
   "outputs": [],
   "source": [
    "my_recs = []\n",
    "for seq_rec in SeqIO.parse(\"seqs.fa\", \"fasta\"):\n",
    "   my_recs.append(seq_rec)"
   ]
  },
  {
   "cell_type": "markdown",
   "metadata": {},
   "source": [
    "##BLAST Sequence Results:\n",
    "\n",
    "###Top Cluster:\n",
    "We BLASTed the sequence of hu.39 against nr/nt using default parameters. All of our top eight matches were to adeno associated virus isolate capsid protein VP1.\n",
    "\n",
    "###Middle Cluster:\n",
    "We BLASTed the sequence of bb.1 against nr/nt using default parameters. Nearly all of our matches on the first page were to adeno associated virus isolate capsid protein VP1.\n",
    "\n",
    "###Bottom Cluster:\n",
    "We BLASTed the sequence of cy.2 against nr/nt using default parameters. Nearly all of our matches on the first page were to adeno associated virus isolate capsid protein VP1."
   ]
  },
  {
   "cell_type": "code",
   "execution_count": 7,
   "metadata": {},
   "outputs": [
    {
     "name": "stdout",
     "output_type": "stream",
     "text": [
      "atggctgctgacggttatcttccagattggctcgaggacaacctctctgagggcattcgcgagtggtgggacctgaaacctggagcccccaagcccaaggccaaccagcagaagcaggacgacggccggggtctggtgcttcctggctacaagtacctcggacccttcaacggactcgacaagggggagcccgtcaacgcggcggacgcagcggccctcgagcacgacaaggcctacgaccagcagctcaaagcgggtgacaatccgtacctgcggtataaccacgccgacgccgagtttcaggagcgtctgcaagaagatacgtcttttgggggcaacctcgggcgagcagtcttccaggccaagaagcgggttctcgaacctctcggtctggttgaggaagctgctaagacggctcctggaaagaagagaccggtagaaccgtcacctcagcgttcccccgactcctccacgggcatcggcaagaaaggccagcagcccgctaaaaagagactgagctttggtcagactggcgactcagagtcagtccccgaccctcaaccaatcggagaaccaccagcaggcccctctggtctgggatctggtacaatggctgcaggcggtggcgctccaatggcagacaataacgaaggcgccgacggagtgggtagttcctcaggaaattggcattgcgattccacatggctgggcgacagagtcatcaccaccagcacccgaacctgggccctgcccacctacaacaaccacctctacaagcaaatatccaatgggacatcgggaggaagcaccaacgacaacacctacttcggctacagcaccccctgggggtattttgacttcaacagattccactgccacttctcaccacgtgactggcagcgactcatcaacaacaactggggattccggccaaaaagactcagcttcaagctcttcaacatccaggtcaaggaggtcacgcagaatgaaggcaccaagaccatcgccaataaccttaccagcacgattcaggtatttacggactcggaataccagctgccgtacgtcctcggctccgcgcaccagggctgcctgcctccgttcccggcggacgtcttcatgattccccagtacggctaccttacactgaacaatggaagtcaagccgtaggccgttcctccttctactgcctggaatattttccatctcaaatgctgcgaactggaaacaattctgaattcagctacaccttcgaggacgtgcctttccacagcagctacgcacacagccagagcttggaccgactgatgaatcctctcatcgaccagtacctgtactacttatccagaactcagtccacaggaggaactcaaggtacccagcaattgttattttctcaagctgggcctgcaaacatgtcggctcaggctaagaactggctacctggaccttgctaccggcagcagcgagtctctacgacactgtcgcaaaacaacaacagcaactttgcttggactggtgccaccaaatatcacctgaacggaagagactctttggtaaatcccggtgtcgccatggcaacccacaaggacgacgaggaacgcttcttcccgtcgagtggagtcctgatgtttggaaaacagggtgctggaagagacaatgtggactacagcagcgttatgctaaccagcgaagaagaaattaaaaccactaaccctgtagccacagaacaatacggtgtggtggctgacaacttgcagcaaaccaatacagggcctattgtgggaaatgtcaacagccaaggagccttacctggcatggtctggcagaaccgagacgtgtacctgcagggtcccatctgggccaagattcctcacacggacggcaacttccacccttcaccgctaatgggaggatttggactgaagcacccacctcctcagatcctgatcaagaacacgccggtacctgcggatcctccaacaacgttcagccaggcgaaattggcttccttcattacgcagtacagcaccggacaggtcagcgtggaaatcgagtgggagctgcagaaggagaacagcaaacgctggaacccagagattcagtacacttcaaactactacaaatctacaaatgtggactttgctgtcaatacagagggaacttattctgagcctcgccccattggtactcgttacctcacccgtaatctgtaa\n"
     ]
    }
   ],
   "source": [
    "print(my_recs[13].seq) #Sequence hu.39, from top cluster"
   ]
  },
  {
   "cell_type": "code",
   "execution_count": 8,
   "metadata": {},
   "outputs": [
    {
     "name": "stdout",
     "output_type": "stream",
     "text": [
      "atggctgccgatggttatcttccagattggctcgaggacaacctctctgagggcattcgcgagtggtgggcgctgaaacctggagccccgaagcccaaagccaaccagcaaaagcaggacgacggccggggtctggtgcttcctggctacaagtacctcggacccttcaacggactcgacaagggggagcccgtcaacgcggcggacgcagcggccctcgagcacgacaaggcctacgaccagcagctcaaagcgggtgacaatccgtacctgcggtataaccacgccgacgccgagtttcaggagcgtctgcaagaagatacgtcttttgggggcaacctcggacgagcagtcttccaggccaagaagcgggttctcgaacctctcggtctggttgaggaaggcgctaagacggctcctggaaagaagagaccggtagagccatcaccccagcgttctccagactccactacgggcatcggcaagaaaggccagcagcccgcgaaaaagagactcaactttgggcagactggcgactcagagtcagtgcccgaccctcaaccaatcggagaaccccccgcaggcccctctggtctgggatctggtacaatggctgcaggcggtggcgctccaatggcagacaataacgaaggcgccgacggagtgggtagttcctcaggaaattggcattgcgattccacatggctgggcgacagagtcatcaccaccagcacccgaacctgggccctccccacctacaacaaccacctctacaagcaaatctccaacgggacttcgggaggaagcaccaacgacaacacctacttcggctacagcaccccctgggggtattttgactttaacagattccactgccacttctcaccacgtgactggcagcgactcatcaacaacaactggggattccggcccaagagactcaacttcaagctcttcaacatccaggtcaaggaggtcacgcagaatgaaggcaccaagaccatcgccaataaccttaccagcacgattcaggtctttacggactcggaataccagctcccgtacgtcctcggctctgcgcgccagggctgcctgcctccgttcccggcggacgtcttcatgattcctcagtacgggtacctgactctgaacaatggcagtcaggccgtgggccgttcctccttctactgcctggagtactttccttctcaaatgctgagaacgggcaacaactttgagttcagctaccagtttgaggacgtgccttttcacagcagctacgcgcacagccaaagcctggaccggctgatgaaccccctcatcgaccagtacctgtactacctgtctcggactcagtccacgggaggtaccgcaggaactcagcagttgctattttctcaggccgggcctaataacatgtcggctcaggccaaaaactggctacccgggccctgctaccggcagcaacgcgtctccacgacactgtcgcaaaataacaacagcaactttgcctggaccggtgccaccaagtatcatctgaatggcagagactctctggtaaatcccggtgtcgctatggcaacccacaaggacgacgaagagcgattttttccgtccagcggagtcttaatgtttgggaaacagggagctggaaaaggcaacgtggactatagcagcgttatgctaaccagtgaggaagaaattaaaaccaccaacccagtggccacagaacagtacggcgtggtggccgataacctgcaacagcaaaacgccgctcctattgtaggggccgtcaacagtcaaggagccttacctggcatggtctggcagaaccgggacgtgtacctgcagggtcctatctgggccaagattcctcacacggacggaaactttcatccctcgccgctgatggggggctttggactgaaacacccgcctcctcagatcctgattaagaatacacctgttcccgcggatcctccaactaccttcagtcaagctaagctggcgtcgttcatcacgcagtacagcaccggacaggtcagcgtggaaattgaatgggagctgcagaaagaaaacagcaaacgctggaacccagagattcaatacacttccaactactacaaatctacaaatgtggactttgctgttaacacagatggcacttattctgagcctcgccccatcggcacccgttacctcacccgtaatctgtaa\n"
     ]
    }
   ],
   "source": [
    "print(my_recs[0].seq) #Sequence bb.1 from middle cluster"
   ]
  },
  {
   "cell_type": "code",
   "execution_count": 9,
   "metadata": {},
   "outputs": [
    {
     "name": "stdout",
     "output_type": "stream",
     "text": [
      "atggctgccgatggttatcttccagattggctcgaggacaacctctctgagggcattcgcgagtggtgggacctgaaacctggagccccgaaacccaaagccaaccagcaaaagcaggacaacggccggggtctggtgcttcctggctacaagtacctcggacccttcaacggactcgacaagggggagcccgtcaacgcggcggacgcagcggccctcgagcacgacaaggcctacgaccagcagctcaatgcgggtgacaacccgtacctgcggtataaccacgccgacgccgagtttcaggagcgtctgcaagaagatacgtcatttgggggcaacctcgggcgagcagtcttccaggccaagaagcgggttctcgaacctctcggtctggttgaggaaggcgctaagacggctcctgcaaagaagagaccggtagagccgtcacctcagcgttcccccgactcctccacgggcatcggcaagaagggccagcagcccgccagaaagagactcaatttcggtcagactggcgactcagagtcagtccccgaccctcaacctctcggagaacctccagcagcgccctctagtgtgggatctggtacagtggctgcaggcggtggcgcaccaatggcagacaataacgaaggtgccgacggagtgggtaatgcctcaggaaattggcattgcgattccacatggctgggcgacagagtcattaccaccagcacccgaacctgggccctgcccacctacaacaaccacctctacgagcaaatctccagtgaaactgcaggtagtaccaacgacaacacctacttcggctacagcaccccctgggggtattttgactttaacagattccactgccacttctcaccacgtgactggcagcgactcatcaacaacaactggggattccggcccaagaagctgcggttcaagctcttcaacatccaggtcaaggaggtcacgacgaatgacggcgttacgaccatcgctaataaccttaccagcacgattcaggtattctcggactcggaataccagctgccgtacgtcctcggctctgcgcaccagggctgcctgcctccgttcccggcggacgtcttcatgattcctcagtacggctacctgactctcaacaatggcagtcagtctgtgggacgttcctccttctactgcctggagtacttcccctctcagatgctgagaacgggcaacaactttgagttcagctacagcttcgaggacgtgcctttccacagcagctacgcacacagccagagcctggaccggctgatgaatcccctcatcgaccagtacttgtactacctggccagaacacagagtgacccaggaggcacagctggcaatcgggaactgcagttttaccagggcgggccttcaactatggccgaacaagccaagaattggttacctggaccctgcttccggcaacaaagggtctccaaaacgctggatcaaaacaacaacagcaactttgcttggactggtgccaccaaatatcacctgaacggcagaaactcgttggttaatcccggcgtcgccatggcaactcacaaggacgacgaggaccgctttttcccatccagcggagtcctgatttttggaaaaactggagcaactaacaaaactacattggaaaatgtgttaatgacaaatgaagaagaaattcgtcctactaatcctgtagccacggaagaatacgggatagtcagcagcaacttacaagcggctaatactgcagcccagacacaagttgtcaacaaccagggagccttacctggcatggtctggcagaaccgggacgtgtacctgcagggtcccatctgggccaagattcctcacacggatggcaactttcacccgtctcctttgatgggcggctttggacttaaacatccgcctcctcagatcctgatcaagaacactcccgttcccgctaatcctccggaggtgtttactcctgccaagtttgcttcgttcatcacacagtacagcaccggacaagtcagcgtggaaatcgagtgggagctgcagaaggaaaacagcaagcgctgggacccggagattcagtacacctccaactttgaaaagcagactggtgtggactttgccgttgacagccagggtgtttactctgagcctcgccctattggcactcgttacctcacccgtaatctgtaa\n"
     ]
    }
   ],
   "source": [
    "print(my_recs[2].seq) #Sequence cy.2, from bottom cluster"
   ]
  },
  {
   "cell_type": "code",
   "execution_count": 11,
   "metadata": {},
   "outputs": [],
   "source": [
    "#define function for calculating AT and GC content\n",
    "\n",
    "#clades indexed top to bottom\n",
    "topcluster = [\"hu.39\", \"rh.50\", \"rh.57\",\"rh.51\", 'rh.49', \"rh.53\", 'rh.64', \"rh.61\", 'rh.58']\n",
    "middlecluster = ['pi.2', 'pi.3', 'pi.1', 'rh.10', 'bb.1', 'bb.2', 'hu.17', 'hu.6', 'rh.2', 'rh.40', 'hu.67', 'hu.37', 'hu.40', 'hu.66', 'hu.41', 'rh.38', 'hu.42']\n",
    "bottomcluster= ['cy.3', 'cy.6', 'cy.4', 'cy.5', 'rh.13', 'rh.35', 'rh.36', 'rh.37', 'cy.2', 'rh.54', 'rh.55', 'rh.48', 'rh.62', 'hu.43', 'hu.48', 'hu.44', 'hu.46', 'hu.14', 'hu.31', 'hu.32', 'rh.43', 'rh.52']\n",
    "\n",
    "dictofsamples = SeqIO.to_dict(SeqIO.parse(\"seqs.aligned.fa\", \"fasta\"))\n",
    "\n",
    "def at_content(listofsamples, position_num):\n",
    "    count = 0\n",
    "    length = len(listofsamples)\n",
    "    for name in listofsamples:\n",
    "        temp = dictofsamples[name].seq\n",
    "        if temp[position_num] == 'A' or temp[position_num] == 'T':\n",
    "            count += 1\n",
    "    return count / length\n",
    "\n",
    "def gc_content(listofsamples, position_num):\n",
    "    return 1 - at_content(listofsamples, position_num)"
   ]
  },
  {
   "cell_type": "code",
   "execution_count": 13,
   "metadata": {},
   "outputs": [],
   "source": [
    "#generate data\n",
    "pos_list= range(1,len(dictofsamples[\"hu.39\"].seq))\n",
    "\n",
    "#Top Cluster\n",
    "pat_top= [at_content(topcluster, x) for x in pos_list]\n",
    "pgc_top = [gc_content(topcluster, x) for x in pos_list]\n",
    "\n",
    "#Middle Cluster\n",
    "pat_middle = [at_content(middlecluster, x) for x in pos_list]\n",
    "pgc_middle = [gc_content(middlecluster, x) for x in pos_list]\n",
    "\n",
    "#Bottom Cluster\n",
    "pat_bottom = [at_content(bottomcluster, x) for x in pos_list]\n",
    "pgc_bottom = [gc_content(bottomcluster, x) for x in pos_list]"
   ]
  },
  {
   "cell_type": "code",
   "execution_count": 26,
   "metadata": {},
   "outputs": [
    {
     "data": {
      "text/plain": [
       "Text(0,0.5,'%AT(blue) vs %GC(orange)')"
      ]
     },
     "execution_count": 26,
     "metadata": {},
     "output_type": "execute_result"
    },
    {
     "data": {
      "image/png": "[encoded data removed]",
      "text/plain": [
       "<Figure size 432x288 with 1 Axes>"
      ]
     },
     "metadata": {},
     "output_type": "display_data"
    }
   ],
   "source": [
    "#generate barplot\n",
    "\n",
    "#Top Cluster\n",
    "attop_out = plt.bar (pos_list, pat_top, 1)\n",
    "gctop_out = plt.bar (pos_list, pgc_top, 1, bottom=pat_top)\n",
    "plt.xlabel(\"Nucleotide Position\")\n",
    "plt.ylabel(\"%AT(blue) vs %GC(orange)\")"
   ]
  },
  {
   "cell_type": "code",
   "execution_count": 27,
   "metadata": {},
   "outputs": [
    {
     "data": {
      "text/plain": [
       "Text(0,0.5,'%AT(blue) vs %GC(orange)')"
      ]
     },
     "execution_count": 27,
     "metadata": {},
     "output_type": "execute_result"
    },
    {
     "data": {
      "image/png": "[encoded data removed]",
      "text/plain": [
       "<Figure size 432x288 with 1 Axes>"
      ]
     },
     "metadata": {},
     "output_type": "display_data"
    }
   ],
   "source": [
    "#Middle Cluster\n",
    "atmid_out = plt.bar(pos_list, pat_middle, 1)\n",
    "gcmid_out = plt.bar(pos_list, pgc_middle, 1, bottom=pat_middle)\n",
    "plt.xlabel(\"Nucleotide Position\")\n",
    "plt.ylabel(\"%AT(blue) vs %GC(orange)\")"
   ]
  },
  {
   "cell_type": "code",
   "execution_count": 28,
   "metadata": {},
   "outputs": [
    {
     "data": {
      "text/plain": [
       "Text(0,0.5,'%AT(blue) vs %GC(orange)')"
      ]
     },
     "execution_count": 28,
     "metadata": {},
     "output_type": "execute_result"
    },
    {
     "data": {
      "image/png": "[encoded data removed]",
      "text/plain": [
       "<Figure size 432x288 with 1 Axes>"
      ]
     },
     "metadata": {},
     "output_type": "display_data"
    }
   ],
   "source": [
    "#Bottom Cluster\n",
    "atbottom_out = plt.bar(pos_list, pat_bottom, 1)\n",
    "gcbottom_out = plt.bar(pos_list, pgc_bottom, 1, bottom=pat_bottom)\n",
    "plt.xlabel(\"Nucleotide Position\")\n",
    "plt.ylabel(\"%AT(blue) vs %GC(orange)\")"
   ]
  },
  {
   "cell_type": "code",
   "execution_count": 33,
   "metadata": {},
   "outputs": [
    {
     "data": {
      "image/png": "[encoded data removed]",
      "text/plain": [
       "<Figure size 432x288 with 1 Axes>"
      ]
     },
     "metadata": {},
     "output_type": "display_data"
    }
   ],
   "source": [
    "#Lengths of each sequence from each cluster\n",
    "allsamples = SeqIO.to_dict(SeqIO.parse(\"seqs.fa\", \"fasta\"))\n",
    "\n",
    "top_lengths = [len(allsamples[x].seq) for x in topcluster]\n",
    "middle_lengths = [len(allsamples[x].seq) for x in middlecluster]\n",
    "bottom_lengths = [len(allsamples[x].seq) for x in bottomcluster]\n",
    "\n",
    "temp = [top_lengths, middle_lengths, bottom_lengths]\n",
    "                      \n",
    "#Box Plot\n",
    "line_out = plt.boxplot(temp, labels=[\"Top Cluster\", \"Middle Cluster\", \"Bottom Cluster\"])"
   ]
  },
  {
   "cell_type": "code",
   "execution_count": null,
   "metadata": {},
   "outputs": [],
   "source": []
  }
 ],
 "metadata": {
  "kernelspec": {
   "display_name": "Python 3",
   "language": "python",
   "name": "python3"
  },
  "language_info": {
   "codemirror_mode": {
    "name": "ipython",
    "version": 3
   },
   "file_extension": ".py",
   "mimetype": "text/x-python",
   "name": "python",
   "nbconvert_exporter": "python",
   "pygments_lexer": "ipython3",
   "version": "3.6.5"
  }
 },
 "nbformat": 4,
 "nbformat_minor": 2
}

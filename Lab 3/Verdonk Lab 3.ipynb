{
 "cells": [
  {
   "cell_type": "code",
   "execution_count": 13,
   "metadata": {},
   "outputs": [],
   "source": [
    "import re\n",
    "import math\n",
    "import matplotlib.pyplot as plt\n",
    "%matplotlib inline\n",
    "\n",
    "#file object\n",
    "rj_file = open(\"romeoandjuliet.txt\")\n",
    "\n",
    "#file contents\n",
    "rj_content = rj_file.read().lower()\n",
    "\n",
    "#close file object\n",
    "rj_file.close()"
   ]
  },
  {
   "cell_type": "code",
   "execution_count": 34,
   "metadata": {},
   "outputs": [],
   "source": [
    "'''\n",
    "Generates a dictionary of how often each word appears in the text. \n",
    "Keys: every unique word in the play \n",
    "Values: # of times the word appears in the play\n",
    "'''\n",
    "def make_dict(text):\n",
    "    d = {}\n",
    "    all_words = re.split('[\\s!.;:,?\"\\[\\]\\(\\)]', text)\n",
    "    keys = list(set(all_words))\n",
    "    for word in all_words:\n",
    "        if word == '':\n",
    "            continue\n",
    "        elif word in d:\n",
    "            d[word] += 1\n",
    "        else:\n",
    "            d[word] = 1\n",
    "    return d\n",
    "\n",
    "mydict = make_dict(rj_content)\n"
   ]
  },
  {
   "cell_type": "code",
   "execution_count": 55,
   "metadata": {},
   "outputs": [
    {
     "data": {
      "text/plain": [
       "Text(0,0.5,'Number of Appearances in Text')"
      ]
     },
     "execution_count": 55,
     "metadata": {},
     "output_type": "execute_result"
    },
    {
     "data": {
      "image/png": "[encoded data removed]",
      "text/plain": [
       "<Figure size 432x288 with 1 Axes>"
      ]
     },
     "metadata": {},
     "output_type": "display_data"
    }
   ],
   "source": [
    "'''\n",
    "Generates a bar graph of each word by the frequency with which it appears in the text. \n",
    "Words are replaced with numbers for simplicity.\n",
    "'''\n",
    "myplot = plt.bar(range(len(mydict.keys())), mydict.values(), 20)\n",
    "plt.xlabel(\"Word\")\n",
    "plt.ylabel(\"Number of Appearances in Text\")"
   ]
  },
  {
   "cell_type": "code",
   "execution_count": 40,
   "metadata": {},
   "outputs": [
    {
     "name": "stdout",
     "output_type": "stream",
     "text": [
      "Most Common Words:\n",
      "and\n",
      "the\n",
      "i\n",
      "to\n",
      "a\n",
      "of\n",
      "my\n",
      "that\n",
      "is\n",
      "in\n",
      "\n",
      "Least Common Words:\n",
      "omnes\n",
      "punished\n",
      "pardon'd\n",
      "glooming\n",
      "sacrifices\n",
      "lie-\n",
      "figure\n",
      "whiles\n",
      "statue\n",
      "demand\n"
     ]
    }
   ],
   "source": [
    "#Bonus Question\n",
    "sorted_words = sorted(mydict, key=mydict.__getitem__, reverse=True)\n",
    "sorted_counts = sorted(mydict.values(), reverse=True)\n",
    "\n",
    "print(\"Most Common Words:\")\n",
    "for i in range(10):\n",
    "    print(sorted_words[i])\n",
    "\n",
    "print(\"\\n\" + \"Least Common Words:\")\n",
    "for i in range(1,11):\n",
    "    print(sorted_words[-i])\n"
   ]
  },
  {
   "cell_type": "code",
   "execution_count": 53,
   "metadata": {},
   "outputs": [
    {
     "data": {
      "text/plain": [
       "Text(0,0.5,'Log(Word Count)')"
      ]
     },
     "execution_count": 53,
     "metadata": {},
     "output_type": "execute_result"
    },
    {
     "data": {
      "image/png": "[encoded data removed]",
      "text/plain": [
       "<Figure size 432x288 with 1 Axes>"
      ]
     },
     "metadata": {},
     "output_type": "display_data"
    }
   ],
   "source": [
    "log_wc = [math.log(x) for x in sorted_counts]\n",
    "temp = range(1, len(log_wc) + 1)\n",
    "log_rank = [math.log(x) for x in temp]\n",
    "\n",
    "ranked_plot = plt.bar(range(len(log_wc)), log_wc)\n",
    "plt.xlabel(\"Log(Rank)\")\n",
    "plt.ylabel(\"Log(Word Count)\")\n"
   ]
  },
  {
   "cell_type": "markdown",
   "metadata": {},
   "source": [
    "The most frequent words tend to be articles, prepositions, and pronouns, which makes sense because these words are used to link nearly every English sentence together. The least frequent words are either seldom used even today, or are simply context-dependent.\n",
    "\n",
    "As for the sorted bar graph, it is clear that some words are exponentially more common than others in Romeo and Juliet."
   ]
  }
 ],
 "metadata": {
  "kernelspec": {
   "display_name": "Python 3",
   "language": "python",
   "name": "python3"
  },
  "language_info": {
   "codemirror_mode": {
    "name": "ipython",
    "version": 3
   },
   "file_extension": ".py",
   "mimetype": "text/x-python",
   "name": "python",
   "nbconvert_exporter": "python",
   "pygments_lexer": "ipython3",
   "version": "3.6.5"
  }
 },
 "nbformat": 4,
 "nbformat_minor": 2
}

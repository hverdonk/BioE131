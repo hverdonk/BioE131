{
 "cells": [
  {
   "cell_type": "code",
   "execution_count": 40,
   "metadata": {},
   "outputs": [],
   "source": [
    "import re\n",
    "import math\n",
    "import matplotlib.pyplot as plt\n",
    "%matplotlib inline\n",
    "\n",
    "#file object\n",
    "rj_file = open(\"romeoandjuliet.txt\")\n",
    "\n",
    "#file contents\n",
    "rj_content = rj_file.read().lower()\n",
    "\n",
    "#close file object\n",
    "rj_file.close()"
   ]
  },
  {
   "cell_type": "code",
   "execution_count": 44,
   "metadata": {},
   "outputs": [],
   "source": [
    "'''\n",
    "Generates a dictionary of how often each word appears in the text. \n",
    "Keys: every unique word in the play \n",
    "Values: # of times the word appears in the play\n",
    "'''\n",
    "def make_dict(text):\n",
    "    d = {}\n",
    "    all_words = re.split('[\\s!.;:,?\"\\[\\]\\(\\)]', text)\n",
    "    keys = set(all_words)\n",
    "    for word in all_words:\n",
    "        if word in d:\n",
    "            d[word] += 1\n",
    "        else:\n",
    "            d[word]=1\n",
    "    return d\n",
    "\n",
    "mydict = make_dict(rj_content)\n"
   ]
  },
  {
   "cell_type": "code",
   "execution_count": null,
   "metadata": {},
   "outputs": [],
   "source": [
    "'''\n",
    "Generates a bar graph of each word by the frequency with which it appears in the text.\n",
    "'''\n",
    "\n",
    "word_freq = plt.bar"
   ]
  }
 ],
 "metadata": {
  "kernelspec": {
   "display_name": "Python 3",
   "language": "python",
   "name": "python3"
  },
  "language_info": {
   "codemirror_mode": {
    "name": "ipython",
    "version": 3
   },
   "file_extension": ".py",
   "mimetype": "text/x-python",
   "name": "python",
   "nbconvert_exporter": "python",
   "pygments_lexer": "ipython3",
   "version": "3.6.5"
  }
 },
 "nbformat": 4,
 "nbformat_minor": 2
}
